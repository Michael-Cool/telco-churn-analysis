{
 "cells": [
  {
   "cell_type": "code",
   "execution_count": 30,
   "id": "35636a3c",
   "metadata": {},
   "outputs": [
    {
     "name": "stdout",
     "output_type": "stream",
     "text": [
      "Requirement already satisfied: tabulate in /Users/michaelnatterer/telco-churn-eda/venv/lib/python3.13/site-packages (0.9.0)\n",
      "\n",
      "\u001b[1m[\u001b[0m\u001b[34;49mnotice\u001b[0m\u001b[1;39;49m]\u001b[0m\u001b[39;49m A new release of pip is available: \u001b[0m\u001b[31;49m25.1.1\u001b[0m\u001b[39;49m -> \u001b[0m\u001b[32;49m25.2\u001b[0m\n",
      "\u001b[1m[\u001b[0m\u001b[34;49mnotice\u001b[0m\u001b[1;39;49m]\u001b[0m\u001b[39;49m To update, run: \u001b[0m\u001b[32;49mpip install --upgrade pip\u001b[0m\n",
      "Note: you may need to restart the kernel to use updated packages.\n"
     ]
    }
   ],
   "source": [
    "%pip install tabulate"
   ]
  },
  {
   "cell_type": "code",
   "execution_count": 31,
   "id": "33badcbd",
   "metadata": {},
   "outputs": [],
   "source": [
    "from pathlib import Path\n",
    "import pandas as pd\n",
    "import numpy as np\n",
    "import datetime, sys, sklearn\n",
    "\n",
    "ROOT_DIR = Path(__file__).resolve().parents[1] if \"__file__\" in locals() else Path.cwd().parents[0]\n",
    "TRAIN_PATH = ROOT_DIR / \"data\" / \"splits\" / \"train.csv\"\n",
    "VAL_PATH = ROOT_DIR / \"data\" / \"splits\" / \"val.csv\"\n",
    "TEST_PATH = ROOT_DIR / \"data\" / \"splits\" / \"test.csv\"\n",
    "OUT_DIR = ROOT_DIR / \"data\" / \"cleaned\"\n",
    "OUT_DIR.mkdir(parents=True, exist_ok=True)"
   ]
  },
  {
   "cell_type": "code",
   "execution_count": 32,
   "id": "3f41070e",
   "metadata": {},
   "outputs": [
    {
     "data": {
      "text/html": [
       "<div>\n",
       "<style scoped>\n",
       "    .dataframe tbody tr th:only-of-type {\n",
       "        vertical-align: middle;\n",
       "    }\n",
       "\n",
       "    .dataframe tbody tr th {\n",
       "        vertical-align: top;\n",
       "    }\n",
       "\n",
       "    .dataframe thead th {\n",
       "        text-align: right;\n",
       "    }\n",
       "</style>\n",
       "<table border=\"1\" class=\"dataframe\">\n",
       "  <thead>\n",
       "    <tr style=\"text-align: right;\">\n",
       "      <th></th>\n",
       "      <th></th>\n",
       "      <th>gender</th>\n",
       "      <th>SeniorCitizen</th>\n",
       "      <th>Partner</th>\n",
       "      <th>Dependents</th>\n",
       "      <th>tenure</th>\n",
       "      <th>PhoneService</th>\n",
       "      <th>MultipleLines</th>\n",
       "      <th>InternetService</th>\n",
       "      <th>OnlineSecurity</th>\n",
       "      <th>OnlineBackup</th>\n",
       "      <th>DeviceProtection</th>\n",
       "      <th>TechSupport</th>\n",
       "      <th>StreamingTV</th>\n",
       "      <th>StreamingMovies</th>\n",
       "      <th>Contract</th>\n",
       "      <th>PaperlessBilling</th>\n",
       "      <th>PaymentMethod</th>\n",
       "      <th>MonthlyCharges</th>\n",
       "      <th>TotalCharges</th>\n",
       "      <th>Churn</th>\n",
       "    </tr>\n",
       "  </thead>\n",
       "  <tbody>\n",
       "    <tr>\n",
       "      <th rowspan=\"5\" valign=\"top\">train</th>\n",
       "      <th>0</th>\n",
       "      <td>Male</td>\n",
       "      <td>0</td>\n",
       "      <td>Yes</td>\n",
       "      <td>No</td>\n",
       "      <td>62</td>\n",
       "      <td>Yes</td>\n",
       "      <td>No</td>\n",
       "      <td>DSL</td>\n",
       "      <td>No</td>\n",
       "      <td>Yes</td>\n",
       "      <td>Yes</td>\n",
       "      <td>Yes</td>\n",
       "      <td>No</td>\n",
       "      <td>No</td>\n",
       "      <td>Two year</td>\n",
       "      <td>Yes</td>\n",
       "      <td>Credit card (automatic)</td>\n",
       "      <td>60.15</td>\n",
       "      <td>3753.2</td>\n",
       "      <td>0</td>\n",
       "    </tr>\n",
       "    <tr>\n",
       "      <th>1</th>\n",
       "      <td>Female</td>\n",
       "      <td>0</td>\n",
       "      <td>Yes</td>\n",
       "      <td>Yes</td>\n",
       "      <td>60</td>\n",
       "      <td>No</td>\n",
       "      <td>No phone service</td>\n",
       "      <td>DSL</td>\n",
       "      <td>No</td>\n",
       "      <td>Yes</td>\n",
       "      <td>No</td>\n",
       "      <td>No</td>\n",
       "      <td>Yes</td>\n",
       "      <td>Yes</td>\n",
       "      <td>Month-to-month</td>\n",
       "      <td>Yes</td>\n",
       "      <td>Electronic check</td>\n",
       "      <td>49.75</td>\n",
       "      <td>3069.45</td>\n",
       "      <td>0</td>\n",
       "    </tr>\n",
       "    <tr>\n",
       "      <th>2</th>\n",
       "      <td>Male</td>\n",
       "      <td>0</td>\n",
       "      <td>No</td>\n",
       "      <td>No</td>\n",
       "      <td>53</td>\n",
       "      <td>Yes</td>\n",
       "      <td>No</td>\n",
       "      <td>DSL</td>\n",
       "      <td>No</td>\n",
       "      <td>No</td>\n",
       "      <td>Yes</td>\n",
       "      <td>No</td>\n",
       "      <td>No</td>\n",
       "      <td>Yes</td>\n",
       "      <td>One year</td>\n",
       "      <td>Yes</td>\n",
       "      <td>Electronic check</td>\n",
       "      <td>61.10</td>\n",
       "      <td>3357.9</td>\n",
       "      <td>0</td>\n",
       "    </tr>\n",
       "    <tr>\n",
       "      <th>3</th>\n",
       "      <td>Female</td>\n",
       "      <td>1</td>\n",
       "      <td>Yes</td>\n",
       "      <td>No</td>\n",
       "      <td>43</td>\n",
       "      <td>No</td>\n",
       "      <td>No phone service</td>\n",
       "      <td>DSL</td>\n",
       "      <td>No</td>\n",
       "      <td>Yes</td>\n",
       "      <td>Yes</td>\n",
       "      <td>No</td>\n",
       "      <td>Yes</td>\n",
       "      <td>Yes</td>\n",
       "      <td>Month-to-month</td>\n",
       "      <td>No</td>\n",
       "      <td>Credit card (automatic)</td>\n",
       "      <td>55.55</td>\n",
       "      <td>2342.2</td>\n",
       "      <td>1</td>\n",
       "    </tr>\n",
       "    <tr>\n",
       "      <th>4</th>\n",
       "      <td>Female</td>\n",
       "      <td>0</td>\n",
       "      <td>No</td>\n",
       "      <td>No</td>\n",
       "      <td>72</td>\n",
       "      <td>Yes</td>\n",
       "      <td>No</td>\n",
       "      <td>DSL</td>\n",
       "      <td>Yes</td>\n",
       "      <td>Yes</td>\n",
       "      <td>Yes</td>\n",
       "      <td>Yes</td>\n",
       "      <td>No</td>\n",
       "      <td>Yes</td>\n",
       "      <td>Two year</td>\n",
       "      <td>Yes</td>\n",
       "      <td>Credit card (automatic)</td>\n",
       "      <td>73.00</td>\n",
       "      <td>5265.2</td>\n",
       "      <td>0</td>\n",
       "    </tr>\n",
       "  </tbody>\n",
       "</table>\n",
       "</div>"
      ],
      "text/plain": [
       "         gender  SeniorCitizen Partner Dependents  tenure PhoneService  \\\n",
       "train 0    Male              0     Yes         No      62          Yes   \n",
       "      1  Female              0     Yes        Yes      60           No   \n",
       "      2    Male              0      No         No      53          Yes   \n",
       "      3  Female              1     Yes         No      43           No   \n",
       "      4  Female              0      No         No      72          Yes   \n",
       "\n",
       "            MultipleLines InternetService OnlineSecurity OnlineBackup  \\\n",
       "train 0                No             DSL             No          Yes   \n",
       "      1  No phone service             DSL             No          Yes   \n",
       "      2                No             DSL             No           No   \n",
       "      3  No phone service             DSL             No          Yes   \n",
       "      4                No             DSL            Yes          Yes   \n",
       "\n",
       "        DeviceProtection TechSupport StreamingTV StreamingMovies  \\\n",
       "train 0              Yes         Yes          No              No   \n",
       "      1               No          No         Yes             Yes   \n",
       "      2              Yes          No          No             Yes   \n",
       "      3              Yes          No         Yes             Yes   \n",
       "      4              Yes         Yes          No             Yes   \n",
       "\n",
       "               Contract PaperlessBilling            PaymentMethod  \\\n",
       "train 0        Two year              Yes  Credit card (automatic)   \n",
       "      1  Month-to-month              Yes         Electronic check   \n",
       "      2        One year              Yes         Electronic check   \n",
       "      3  Month-to-month               No  Credit card (automatic)   \n",
       "      4        Two year              Yes  Credit card (automatic)   \n",
       "\n",
       "         MonthlyCharges TotalCharges  Churn  \n",
       "train 0           60.15       3753.2      0  \n",
       "      1           49.75      3069.45      0  \n",
       "      2           61.10       3357.9      0  \n",
       "      3           55.55       2342.2      1  \n",
       "      4           73.00       5265.2      0  "
      ]
     },
     "execution_count": 32,
     "metadata": {},
     "output_type": "execute_result"
    }
   ],
   "source": [
    "train = pd.read_csv(TRAIN_PATH)\n",
    "val = pd.read_csv(VAL_PATH)\n",
    "test = pd.read_csv(TEST_PATH)\n",
    "\n",
    "df = pd.concat([train, val, test], keys=[\"train\",\"val\",\"test\"])\n",
    "df.head()"
   ]
  },
  {
   "cell_type": "code",
   "execution_count": 33,
   "id": "e0d2dc6a",
   "metadata": {},
   "outputs": [
    {
     "data": {
      "text/plain": [
       "gender              0\n",
       "SeniorCitizen       0\n",
       "Partner             0\n",
       "Dependents          0\n",
       "tenure              0\n",
       "PhoneService        0\n",
       "MultipleLines       0\n",
       "InternetService     0\n",
       "OnlineSecurity      0\n",
       "OnlineBackup        0\n",
       "DeviceProtection    0\n",
       "TechSupport         0\n",
       "StreamingTV         0\n",
       "StreamingMovies     0\n",
       "Contract            0\n",
       "PaperlessBilling    0\n",
       "PaymentMethod       0\n",
       "MonthlyCharges      0\n",
       "TotalCharges        0\n",
       "Churn               0\n",
       "dtype: int64"
      ]
     },
     "execution_count": 33,
     "metadata": {},
     "output_type": "execute_result"
    }
   ],
   "source": [
    "missing = df.isnull().sum()\n",
    "missing"
   ]
  },
  {
   "cell_type": "code",
   "execution_count": 34,
   "id": "82a96959",
   "metadata": {},
   "outputs": [],
   "source": [
    "df[\"TotalCharges\"] = df[\"TotalCharges\"].replace(\" \", np.nan).astype(float)\n",
    "mask = df[\"tenure\"] == 0\n",
    "df.loc[mask, \"TotalCharges\"] = df.loc[mask, \"TotalCharges\"].fillna(0)"
   ]
  },
  {
   "cell_type": "code",
   "execution_count": 35,
   "id": "10c75a8a",
   "metadata": {},
   "outputs": [
    {
     "name": "stdout",
     "output_type": "stream",
     "text": [
      "Categorical: ['gender', 'Partner', 'Dependents', 'PhoneService', 'MultipleLines', 'InternetService', 'OnlineSecurity', 'OnlineBackup', 'DeviceProtection', 'TechSupport', 'StreamingTV', 'StreamingMovies', 'Contract', 'PaperlessBilling', 'PaymentMethod']\n",
      "Numerical: ['SeniorCitizen', 'tenure', 'MonthlyCharges', 'TotalCharges', 'Churn']\n"
     ]
    }
   ],
   "source": [
    "df[\"SeniorCitizen\"] = df[\"SeniorCitizen\"].astype(int)\n",
    "\n",
    "cat_cols = df.select_dtypes(include=[\"object\"]).columns.tolist()\n",
    "num_cols = df.select_dtypes(exclude=[\"object\"]).columns.tolist()\n",
    "\n",
    "print(\"Categorical:\", cat_cols)\n",
    "print(\"Numerical:\", num_cols)"
   ]
  },
  {
   "cell_type": "code",
   "execution_count": 36,
   "id": "567c9c6a",
   "metadata": {},
   "outputs": [
    {
     "data": {
      "image/png": "[encoded data removed]",
      "text/plain": [
       "<Figure size 1200x400 with 3 Axes>"
      ]
     },
     "metadata": {},
     "output_type": "display_data"
    }
   ],
   "source": [
    "import matplotlib.pyplot as plt\n",
    "\n",
    "num_cols = [\"tenure\",\"MonthlyCharges\",\"TotalCharges\"]\n",
    "df[num_cols].plot(kind=\"box\", subplots=True, layout=(1,3), figsize=(12,4))\n",
    "plt.tight_layout()\n",
    "plt.show()"
   ]
  },
  {
   "cell_type": "code",
   "execution_count": 37,
   "id": "8632ab75",
   "metadata": {},
   "outputs": [
    {
     "data": {
      "text/plain": [
       "{'negative_tenure': np.int64(0),\n",
       " 'negative_charges': np.int64(0),\n",
       " 'special_chars': np.int64(3066)}"
      ]
     },
     "execution_count": 37,
     "metadata": {},
     "output_type": "execute_result"
    }
   ],
   "source": [
    "issues = {\n",
    "    \"negative_tenure\": (df[\"tenure\"] < 0).sum(),\n",
    "    \"negative_charges\": (df[\"MonthlyCharges\"] < 0).sum() + (df[\"TotalCharges\"] < 0).sum(),\n",
    "    \"special_chars\": df.select_dtypes(\"object\").apply(lambda x: x.str.contains(r\"[^a-zA-Z0-9\\s\\.\\-]\", na=False).sum()).sum()\n",
    "}\n",
    "issues"
   ]
  },
  {
   "cell_type": "code",
   "execution_count": 38,
   "id": "dfeb434c",
   "metadata": {},
   "outputs": [],
   "source": [
    "df.loc[\"train\"].to_csv(OUT_DIR / \"train_clean.csv\", index=False)\n",
    "df.loc[\"val\"].to_csv(OUT_DIR / \"val_clean.csv\", index=False)\n",
    "df.loc[\"test\"].to_csv(OUT_DIR / \"test_clean.csv\", index=False)"
   ]
  },
  {
   "cell_type": "code",
   "execution_count": 39,
   "id": "84420818",
   "metadata": {},
   "outputs": [
    {
     "data": {
      "text/plain": [
       "1412"
      ]
     },
     "execution_count": 39,
     "metadata": {},
     "output_type": "execute_result"
    }
   ],
   "source": [
    "(REPORT_DIR := ROOT_DIR / \"reports\").mkdir(parents=True, exist_ok=True)\n",
    "Path(REPORT_DIR / \"data_cleaning_report.md\").write_text(md, encoding=\"utf-8\")\n",
    "\n",
    "now = datetime.datetime.now().strftime(\"%Y-%m-%d %H:%M:%S\")\n",
    "\n",
    "md = f\"\"\"# Data Cleaning Report\n",
    "\n",
    "**Datum/Zeit:** {now}  \n",
    "**random_state:** 42  \n",
    "\n",
    "---\n",
    "\n",
    "## 🧹 Overview\n",
    "- Missing values handled (TotalCharges = 0 where tenure = 0)\n",
    "- Data types standardized:\n",
    "  - SeniorCitizen → int (0/1)\n",
    "  - All other categorical fields → string\n",
    "- Outliers checked (Boxplot of tenure, MonthlyCharges, TotalCharges)\n",
    "- Consistency verified: no negative or non-numeric values\n",
    "\n",
    "---\n",
    "\n",
    "## 🔍 Missing Values (before cleaning)\n",
    "{missing.to_markdown()}\n",
    "---\n",
    "\n",
    "## ✅ Consistency Checks\n",
    "| Check | Count |\n",
    "|--------|-------:|\n",
    "| Negative tenure | {issues['negative_tenure']} |\n",
    "| Negative charges | {issues['negative_charges']} |\n",
    "| Special characters | {issues['special_chars']} |\n",
    "\n",
    "---\n",
    "\n",
    "## 📂 Output\n",
    "- data/cleaned/train_clean.csv  \n",
    "- data/cleaned/val_clean.csv  \n",
    "- data/cleaned/test_clean.csv  \n",
    "\n",
    "---\n",
    "\n",
    "## 🧠 Note\n",
    "All transformations follow reproducibility guidelines according to **CRISP-ML(Q)** (Studer et al., 2021).\n",
    "\"\"\"\n",
    "\n",
    "Path(ROOT_DIR / \"reports\" / \"data_cleaning_report.md\").write_text(md, encoding=\"utf-8\")"
   ]
  }
 ],
 "metadata": {
  "kernelspec": {
   "display_name": "venv",
   "language": "python",
   "name": "python3"
  },
  "language_info": {
   "codemirror_mode": {
    "name": "ipython",
    "version": 3
   },
   "file_extension": ".py",
   "mimetype": "text/x-python",
   "name": "python",
   "nbconvert_exporter": "python",
   "pygments_lexer": "ipython3",
   "version": "3.13.5"
  }
 },
 "nbformat": 4,
 "nbformat_minor": 5
}
