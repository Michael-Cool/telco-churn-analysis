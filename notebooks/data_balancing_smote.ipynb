{
 "cells": [
  {
   "cell_type": "code",
   "execution_count": 2,
   "id": "12bae6d7",
   "metadata": {},
   "outputs": [],
   "source": [
    "from pathlib import Path\n",
    "import pandas as pd\n",
    "from imblearn.over_sampling import SMOTE\n",
    "import matplotlib.pyplot as plt\n",
    "import datetime, sys, sklearn\n",
    "\n",
    "ROOT_DIR = Path(__file__).resolve().parents[1] if \"__file__\" in locals() else Path.cwd().parents[0]\n",
    "DATA_DIR = ROOT_DIR / \"data\" / \"scaled\"\n",
    "OUT_DIR = ROOT_DIR / \"data\" / \"balanced\"\n",
    "OUT_DIR.mkdir(parents=True, exist_ok=True)"
   ]
  },
  {
   "cell_type": "code",
   "execution_count": 3,
   "id": "436e8c8e",
   "metadata": {},
   "outputs": [],
   "source": [
    "train = pd.read_csv(DATA_DIR / \"train_scaled.csv\")\n",
    "val = pd.read_csv(DATA_DIR / \"val_scaled.csv\")\n",
    "test = pd.read_csv(DATA_DIR / \"test_scaled.csv\")\n",
    "\n",
    "X_train = train.drop(columns=[\"Churn\"])\n",
    "y_train = train[\"Churn\"]\n",
    "\n",
    "X_val = val.drop(columns=[\"Churn\"])\n",
    "y_val = val[\"Churn\"]\n",
    "\n",
    "X_test = test.drop(columns=[\"Churn\"])\n",
    "y_test = test[\"Churn\"]"
   ]
  },
  {
   "cell_type": "code",
   "execution_count": 4,
   "id": "24c43223",
   "metadata": {},
   "outputs": [
    {
     "name": "stdout",
     "output_type": "stream",
     "text": [
      "Before SMOTE: Counter({0: 3621, 1: 1308})\n",
      "After SMOTE: Counter({0: 3621, 1: 3621})\n"
     ]
    }
   ],
   "source": [
    "from collections import Counter\n",
    "\n",
    "print(\"Before SMOTE:\", Counter(y_train))\n",
    "\n",
    "smote = SMOTE(random_state=42)\n",
    "X_train_res, y_train_res = smote.fit_resample(X_train, y_train)\n",
    "\n",
    "print(\"After SMOTE:\", Counter(y_train_res))"
   ]
  },
  {
   "cell_type": "code",
   "execution_count": 5,
   "id": "2d26a0bb",
   "metadata": {},
   "outputs": [
    {
     "data": {
      "image/png": "[encoded data removed]",
      "text/plain": [
       "<Figure size 800x400 with 2 Axes>"
      ]
     },
     "metadata": {},
     "output_type": "display_data"
    }
   ],
   "source": [
    "counts_before = pd.Series(y_train).value_counts().sort_index()\n",
    "counts_after = pd.Series(y_train_res).value_counts().sort_index()\n",
    "\n",
    "fig, ax = plt.subplots(1, 2, figsize=(8, 4))\n",
    "counts_before.plot(kind=\"bar\", ax=ax[0], color=\"steelblue\", title=\"Before SMOTE\")\n",
    "counts_after.plot(kind=\"bar\", ax=ax[1], color=\"darkorange\", title=\"After SMOTE\")\n",
    "for a in ax:\n",
    "    a.set_xticklabels([\"No Churn (0)\", \"Churn (1)\"], rotation=0)\n",
    "plt.tight_layout()\n",
    "plt.show()"
   ]
  },
  {
   "cell_type": "code",
   "execution_count": 6,
   "id": "abaa0c73",
   "metadata": {},
   "outputs": [],
   "source": [
    "train_res = pd.concat([X_train_res, y_train_res], axis=1)\n",
    "train_res.to_csv(OUT_DIR / \"train_balanced.csv\", index=False)\n",
    "val.to_csv(OUT_DIR / \"val_balanced.csv\", index=False)\n",
    "test.to_csv(OUT_DIR / \"test_balanced.csv\", index=False)"
   ]
  },
  {
   "cell_type": "code",
   "execution_count": 7,
   "id": "2afd600f",
   "metadata": {},
   "outputs": [
    {
     "data": {
      "text/plain": [
       "1102"
      ]
     },
     "execution_count": 7,
     "metadata": {},
     "output_type": "execute_result"
    }
   ],
   "source": [
    "now = datetime.datetime.now().strftime(\"%Y-%m-%d %H:%M:%S\")\n",
    "\n",
    "before_0, before_1 = counts_before[0], counts_before[1]\n",
    "after_0, after_1 = counts_after[0], counts_after[1]\n",
    "\n",
    "md = f\"\"\"# SMOTE Balancing Report\n",
    "\n",
    "**Datum/Zeit:** {now}  \n",
    "**random_state:** 42  \n",
    "\n",
    "---\n",
    "\n",
    "## Overview\n",
    "- Applied **SMOTE (Synthetic Minority Over-sampling Technique)** on the training set only  \n",
    "- Balances class distribution for `Churn` (0 = No, 1 = Yes)  \n",
    "- Validation and Test sets remain untouched  \n",
    "\n",
    "---\n",
    "\n",
    "## Class Distribution\n",
    "\n",
    "| Split | Class 0 (No Churn) | Class 1 (Churn) |\n",
    "|--------|-------------------:|----------------:|\n",
    "| Before SMOTE | {before_0} | {before_1} |\n",
    "| After SMOTE (train only) | {after_0} | {after_1} |\n",
    "\n",
    "---\n",
    "\n",
    "## Visualization\n",
    "*(See corresponding notebook cell for the bar chart of class distribution before and after SMOTE.)*\n",
    "\n",
    "---\n",
    "\n",
    "## Output\n",
    "- `data/balanced/train_balanced.csv`  \n",
    "- `data/balanced/val_balanced.csv`  \n",
    "- `data/balanced/test_balanced.csv`  \n",
    "\n",
    "---\n",
    "\n",
    "## Reproducibility\n",
    "- Python {sys.version.split()[0]}  \n",
    "- pandas {pd.__version__}  \n",
    "- scikit-learn {sklearn.__version__}\n",
    "\n",
    "---\n",
    "\n",
    "## 🧠 Note\n",
    "Balancing the training set mitigates bias toward the majority class and helps the model learn minority-class patterns effectively.  \n",
    "SMOTE synthesizes new samples by interpolating existing minority instances, ensuring a smoother class boundary.\n",
    "\"\"\"\n",
    "\n",
    "REPORT_DIR = ROOT_DIR / \"reports\" / \"data_preparation\"\n",
    "REPORT_DIR.mkdir(parents=True, exist_ok=True)\n",
    "Path(REPORT_DIR / \"smote_report.md\").write_text(md, encoding=\"utf-8\")"
   ]
  }
 ],
 "metadata": {
  "kernelspec": {
   "display_name": "venv",
   "language": "python",
   "name": "python3"
  },
  "language_info": {
   "codemirror_mode": {
    "name": "ipython",
    "version": 3
   },
   "file_extension": ".py",
   "mimetype": "text/x-python",
   "name": "python",
   "nbconvert_exporter": "python",
   "pygments_lexer": "ipython3",
   "version": "3.13.5"
  }
 },
 "nbformat": 4,
 "nbformat_minor": 5
}
