{
 "cells": [
  {
   "cell_type": "code",
   "execution_count": 18,
   "id": "afe45e08",
   "metadata": {},
   "outputs": [
    {
     "name": "stdout",
     "output_type": "stream",
     "text": [
      "\n",
      "\u001b[1m[\u001b[0m\u001b[34;49mnotice\u001b[0m\u001b[1;39;49m]\u001b[0m\u001b[39;49m A new release of pip is available: \u001b[0m\u001b[31;49m25.1.1\u001b[0m\u001b[39;49m -> \u001b[0m\u001b[32;49m25.2\u001b[0m\n",
      "\u001b[1m[\u001b[0m\u001b[34;49mnotice\u001b[0m\u001b[1;39;49m]\u001b[0m\u001b[39;49m To update, run: \u001b[0m\u001b[32;49mpip install --upgrade pip\u001b[0m\n",
      "Note: you may need to restart the kernel to use updated packages.\n"
     ]
    }
   ],
   "source": [
    "%pip install -q pandas scikit-learn"
   ]
  },
  {
   "cell_type": "code",
   "execution_count": 19,
   "id": "364bdfc2",
   "metadata": {},
   "outputs": [],
   "source": [
    "from pathlib import Path\n",
    "import pandas as pd\n",
    "from sklearn.model_selection import StratifiedShuffleSplit\n",
    "import datetime, sys, sklearn\n",
    "\n",
    "# Projekt-Root automatisch finden (z. B. wenn das Notebook in /notebooks/ liegt)\n",
    "ROOT_DIR = Path(__file__).resolve().parents[1] if \"__file__\" in locals() else Path.cwd().parents[0]\n",
    "\n",
    "RAW_PATH = ROOT_DIR / \"data\" / \"raw\" / \"IBMTelco_Datensatz.csv\"\n",
    "OUT_DIR = ROOT_DIR / \"data\" / \"splits\"\n",
    "OUT_DIR.mkdir(parents=True, exist_ok=True)\n",
    "random_state = 42"
   ]
  },
  {
   "cell_type": "code",
   "execution_count": 20,
   "id": "d3e3c99d",
   "metadata": {},
   "outputs": [],
   "source": [
    "df = pd.read_csv(RAW_PATH)\n",
    "df = df.rename(columns=lambda c: c.strip())\n",
    "df = df.drop(columns=[\"customerID\"])\n",
    "df[\"Churn\"] = df[\"Churn\"].map({\"Yes\":1,\"No\":0}).astype(int)"
   ]
  },
  {
   "cell_type": "code",
   "execution_count": 21,
   "id": "65afd5b8",
   "metadata": {},
   "outputs": [],
   "source": [
    "y = df[\"Churn\"]\n",
    "sss1 = StratifiedShuffleSplit(n_splits=1, test_size=0.15, random_state=random_state)\n",
    "train_val_idx, test_idx = next(sss1.split(df, y))\n",
    "train_val = df.iloc[train_val_idx].reset_index(drop=True)\n",
    "test = df.iloc[test_idx].reset_index(drop=True)"
   ]
  },
  {
   "cell_type": "code",
   "execution_count": 22,
   "id": "9fd6e9da",
   "metadata": {},
   "outputs": [],
   "source": [
    "sss2 = StratifiedShuffleSplit(n_splits=1, test_size=0.1764705882, random_state=random_state)\n",
    "train_idx, val_idx = next(sss2.split(train_val, train_val[\"Churn\"]))\n",
    "train = train_val.iloc[train_idx].reset_index(drop=True)\n",
    "val = train_val.iloc[val_idx].reset_index(drop=True)"
   ]
  },
  {
   "cell_type": "code",
   "execution_count": 23,
   "id": "c980f47b",
   "metadata": {},
   "outputs": [],
   "source": [
    "train.to_csv(OUT_DIR / \"train.csv\", index=False)\n",
    "val.to_csv(OUT_DIR / \"val.csv\", index=False)\n",
    "test.to_csv(OUT_DIR / \"test.csv\", index=False)"
   ]
  },
  {
   "cell_type": "code",
   "execution_count": 24,
   "id": "3203315c",
   "metadata": {},
   "outputs": [
    {
     "data": {
      "text/html": [
       "<div>\n",
       "<style scoped>\n",
       "    .dataframe tbody tr th:only-of-type {\n",
       "        vertical-align: middle;\n",
       "    }\n",
       "\n",
       "    .dataframe tbody tr th {\n",
       "        vertical-align: top;\n",
       "    }\n",
       "\n",
       "    .dataframe thead th {\n",
       "        text-align: right;\n",
       "    }\n",
       "</style>\n",
       "<table border=\"1\" class=\"dataframe\">\n",
       "  <thead>\n",
       "    <tr style=\"text-align: right;\">\n",
       "      <th></th>\n",
       "      <th>Split</th>\n",
       "      <th>n</th>\n",
       "      <th>Churn n</th>\n",
       "      <th>Churn %</th>\n",
       "    </tr>\n",
       "  </thead>\n",
       "  <tbody>\n",
       "    <tr>\n",
       "      <th>0</th>\n",
       "      <td>Gesamt</td>\n",
       "      <td>7043</td>\n",
       "      <td>1869</td>\n",
       "      <td>26.5</td>\n",
       "    </tr>\n",
       "    <tr>\n",
       "      <th>1</th>\n",
       "      <td>Train</td>\n",
       "      <td>4929</td>\n",
       "      <td>1308</td>\n",
       "      <td>26.5</td>\n",
       "    </tr>\n",
       "    <tr>\n",
       "      <th>2</th>\n",
       "      <td>Validation</td>\n",
       "      <td>1057</td>\n",
       "      <td>281</td>\n",
       "      <td>26.6</td>\n",
       "    </tr>\n",
       "    <tr>\n",
       "      <th>3</th>\n",
       "      <td>Test</td>\n",
       "      <td>1057</td>\n",
       "      <td>280</td>\n",
       "      <td>26.5</td>\n",
       "    </tr>\n",
       "  </tbody>\n",
       "</table>\n",
       "</div>"
      ],
      "text/plain": [
       "        Split     n  Churn n  Churn %\n",
       "0      Gesamt  7043     1869     26.5\n",
       "1       Train  4929     1308     26.5\n",
       "2  Validation  1057      281     26.6\n",
       "3        Test  1057      280     26.5"
      ]
     },
     "execution_count": 24,
     "metadata": {},
     "output_type": "execute_result"
    }
   ],
   "source": [
    "def stats(d):\n",
    "    n = len(d)\n",
    "    c = d[\"Churn\"].sum()\n",
    "    r = c / n\n",
    "    return n, c, r\n",
    "\n",
    "tot_n, tot_c, tot_r = stats(df)\n",
    "tr_n, tr_c, tr_r = stats(train)\n",
    "va_n, va_c, va_r = stats(val)\n",
    "te_n, te_c, te_r = stats(test)\n",
    "\n",
    "summary = pd.DataFrame({\n",
    "    \"Split\":[\"Gesamt\",\"Train\",\"Validation\",\"Test\"],\n",
    "    \"n\":[tot_n,tr_n,va_n,te_n],\n",
    "    \"Churn n\":[tot_c,tr_c,va_c,te_c],\n",
    "    \"Churn %\":[round(tot_r*100,1),round(tr_r*100,1),round(va_r*100,1),round(te_r*100,1)]\n",
    "})\n",
    "summary"
   ]
  },
  {
   "cell_type": "code",
   "execution_count": 25,
   "id": "2148e45b",
   "metadata": {},
   "outputs": [
    {
     "data": {
      "text/plain": [
       "546"
      ]
     },
     "execution_count": 25,
     "metadata": {},
     "output_type": "execute_result"
    }
   ],
   "source": [
    "now = datetime.datetime.now().strftime(\"%Y-%m-%d %H:%M:%S\")\n",
    "\n",
    "md = f\"\"\"# Data Selection\n",
    "\n",
    "- Datum/Zeit: {now}\n",
    "- random_state: {random_state}\n",
    "- Quelle: {RAW_PATH}\n",
    "\n",
    "## Umfang\n",
    "| Split | n | Churn n | Churn % |\n",
    "|---|---:|---:|---:|\n",
    "| Gesamt | {tot_n} | {tot_c} | {tot_r*100:.1f}% |\n",
    "| Train | {tr_n} | {tr_c} | {tr_r*100:.1f}% |\n",
    "| Validation | {va_n} | {va_c} | {va_r*100:.1f}% |\n",
    "| Test | {te_n} | {te_c} | {te_r*100:.1f}% |\n",
    "\n",
    "## Vorgehen\n",
    "- Alle Variablen außer `customerID`\n",
    "- Stratified 70/15/15 (auf `Churn`)\n",
    "- Reproduzierbar mit random_state={random_state}\n",
    "\n",
    "## Reproduzierbarkeit\n",
    "- Python {sys.version.split()[0]} • pandas {pd.__version__} • scikit-learn {sklearn.__version__}\n",
    "\"\"\"\n",
    "Path(\"data_selection.md\").write_text(md, encoding=\"utf-8\")"
   ]
  }
 ],
 "metadata": {
  "kernelspec": {
   "display_name": "venv",
   "language": "python",
   "name": "python3"
  },
  "language_info": {
   "codemirror_mode": {
    "name": "ipython",
    "version": 3
   },
   "file_extension": ".py",
   "mimetype": "text/x-python",
   "name": "python",
   "nbconvert_exporter": "python",
   "pygments_lexer": "ipython3",
   "version": "3.13.5"
  }
 },
 "nbformat": 4,
 "nbformat_minor": 5
}
