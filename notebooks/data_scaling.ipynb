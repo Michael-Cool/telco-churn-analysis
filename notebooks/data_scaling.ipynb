{
 "cells": [
  {
   "cell_type": "code",
   "execution_count": 7,
   "id": "02e1e299",
   "metadata": {},
   "outputs": [],
   "source": [
    "from pathlib import Path\n",
    "import pandas as pd\n",
    "from sklearn.preprocessing import MinMaxScaler\n",
    "import datetime, sys, sklearn\n",
    "\n",
    "ROOT_DIR = Path(__file__).resolve().parents[1] if \"__file__\" in locals() else Path.cwd().parents[0]\n",
    "DATA_DIR = ROOT_DIR / \"data\" / \"encoded\"\n",
    "OUT_DIR = ROOT_DIR / \"data\" / \"scaled\"\n",
    "OUT_DIR.mkdir(parents=True, exist_ok=True)"
   ]
  },
  {
   "cell_type": "code",
   "execution_count": 8,
   "id": "c5b09e9b",
   "metadata": {},
   "outputs": [],
   "source": [
    "train = pd.read_csv(DATA_DIR / \"train_encoded.csv\")\n",
    "val = pd.read_csv(DATA_DIR / \"val_encoded.csv\")\n",
    "test = pd.read_csv(DATA_DIR / \"test_encoded.csv\")"
   ]
  },
  {
   "cell_type": "code",
   "execution_count": 9,
   "id": "d04538ec",
   "metadata": {},
   "outputs": [],
   "source": [
    "num_cols = [\"tenure\", \"MonthlyCharges\", \"TotalCharges\"]\n",
    "\n",
    "scaler = MinMaxScaler()\n",
    "\n",
    "train[num_cols] = scaler.fit_transform(train[num_cols])\n",
    "val[num_cols] = scaler.transform(val[num_cols])\n",
    "test[num_cols] = scaler.transform(test[num_cols])"
   ]
  },
  {
   "cell_type": "code",
   "execution_count": 10,
   "id": "7a3e8e8e",
   "metadata": {},
   "outputs": [],
   "source": [
    "train.to_csv(OUT_DIR / \"train_scaled.csv\", index=False)\n",
    "val.to_csv(OUT_DIR / \"val_scaled.csv\", index=False)\n",
    "test.to_csv(OUT_DIR / \"test_scaled.csv\", index=False)"
   ]
  },
  {
   "cell_type": "code",
   "execution_count": 11,
   "id": "961e1e84",
   "metadata": {},
   "outputs": [
    {
     "name": "stdout",
     "output_type": "stream",
     "text": [
      "Train ranges:\n",
      "      tenure  MonthlyCharges  TotalCharges\n",
      "min     0.0             0.0           0.0\n",
      "max     1.0             1.0           1.0\n"
     ]
    }
   ],
   "source": [
    "print(\"Train ranges:\\n\", train[num_cols].agg([\"min\", \"max\"]))"
   ]
  },
  {
   "cell_type": "code",
   "execution_count": 12,
   "id": "0b815d2d",
   "metadata": {},
   "outputs": [
    {
     "name": "stdout",
     "output_type": "stream",
     "text": [
      "✅ Scaling check passed\n"
     ]
    }
   ],
   "source": [
    "ok = (\n",
    "    train[num_cols].max().le(1.0).all() and \n",
    "    train[num_cols].min().ge(0.0).all()\n",
    ")\n",
    "print(\"✅ Scaling check passed\" if ok else \"⚠️ Scaling check failed\")"
   ]
  },
  {
   "cell_type": "code",
   "execution_count": null,
   "id": "2c6f481e",
   "metadata": {},
   "outputs": [
    {
     "data": {
      "text/plain": [
       "947"
      ]
     },
     "execution_count": 13,
     "metadata": {},
     "output_type": "execute_result"
    }
   ],
   "source": [
    "now = datetime.datetime.now().strftime(\"%Y-%m-%d %H:%M:%S\")\n",
    "\n",
    "md = f\"\"\"# Scaling Report\n",
    "\n",
    "**Datum/Zeit:** {now}  \n",
    "**random_state:** 42  \n",
    "\n",
    "---\n",
    "\n",
    "## Overview\n",
    "- Numerical features scaled using **Min-Max Normalization (0–1)**\n",
    "- Applied to: `tenure`, `MonthlyCharges`, `TotalCharges`\n",
    "- Fitted on training data only, applied to validation/test for consistency\n",
    "- Ensures feature comparability and stability in distance-based and gradient models\n",
    "\n",
    "---\n",
    "\n",
    "## Value Ranges (after scaling)\n",
    "| Feature | Min | Max |\n",
    "|----------|----:|----:|\n",
    "| tenure | {train['tenure'].min():.2f} | {train['tenure'].max():.2f} |\n",
    "| MonthlyCharges | {train['MonthlyCharges'].min():.2f} | {train['MonthlyCharges'].max():.2f} |\n",
    "| TotalCharges | {train['TotalCharges'].min():.2f} | {train['TotalCharges'].max():.2f} |\n",
    "\n",
    "---\n",
    "\n",
    "## Output\n",
    "- `data/scaled/train_scaled.csv`  \n",
    "- `data/scaled/val_scaled.csv`  \n",
    "- `data/scaled/test_scaled.csv`\n",
    "\n",
    "---\n",
    "\n",
    "## Reproducibility\n",
    "- Python {sys.version.split()[0]}  \n",
    "- pandas {pd.__version__}  \n",
    "- scikit-learn {sklearn.__version__}\n",
    "\n",
    "---\n",
    "\n",
    "## Note\n",
    "Scaling improves numerical stability, speeds up convergence,  \n",
    "and prevents bias in algorithms sensitive to feature magnitudes (e.g., XGBoost, kNN, logistic regression).\n",
    "\"\"\"\n",
    "\n",
    "REPORT_DIR = ROOT_DIR / \"reports\" / \"data_preparation\"\n",
    "REPORT_DIR.mkdir(parents=True, exist_ok=True)\n",
    "Path(REPORT_DIR / \"scaling_report.md\").write_text(md, encoding=\"utf-8\")"
   ]
  }
 ],
 "metadata": {
  "kernelspec": {
   "display_name": "venv",
   "language": "python",
   "name": "python3"
  },
  "language_info": {
   "codemirror_mode": {
    "name": "ipython",
    "version": 3
   },
   "file_extension": ".py",
   "mimetype": "text/x-python",
   "name": "python",
   "nbconvert_exporter": "python",
   "pygments_lexer": "ipython3",
   "version": "3.13.5"
  }
 },
 "nbformat": 4,
 "nbformat_minor": 5
}
