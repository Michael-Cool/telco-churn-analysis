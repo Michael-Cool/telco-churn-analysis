{
 "cells": [
  {
   "cell_type": "code",
   "execution_count": 1,
   "id": "7560aa7a",
   "metadata": {},
   "outputs": [],
   "source": [
    "from pathlib import Path\n",
    "import pandas as pd\n",
    "from sklearn.preprocessing import OneHotEncoder, LabelEncoder\n",
    "import numpy as np\n",
    "import datetime, sys, sklearn\n",
    "\n",
    "ROOT_DIR = Path(__file__).resolve().parents[1] if \"__file__\" in locals() else Path.cwd().parents[0]\n",
    "DATA_DIR = ROOT_DIR / \"data\" / \"cleaned\"\n",
    "OUT_DIR = ROOT_DIR / \"data\" / \"encoded\"\n",
    "OUT_DIR.mkdir(parents=True, exist_ok=True)"
   ]
  },
  {
   "cell_type": "code",
   "execution_count": 2,
   "id": "c46c8f28",
   "metadata": {},
   "outputs": [
    {
     "data": {
      "text/plain": [
       "((4929, 20), (1057, 20), (1057, 20))"
      ]
     },
     "execution_count": 2,
     "metadata": {},
     "output_type": "execute_result"
    }
   ],
   "source": [
    "train = pd.read_csv(DATA_DIR / \"train_clean.csv\")\n",
    "val = pd.read_csv(DATA_DIR / \"val_clean.csv\")\n",
    "test = pd.read_csv(DATA_DIR / \"test_clean.csv\")\n",
    "\n",
    "train.shape, val.shape, test.shape"
   ]
  },
  {
   "cell_type": "code",
   "execution_count": 3,
   "id": "280c5417",
   "metadata": {},
   "outputs": [
    {
     "name": "stdout",
     "output_type": "stream",
     "text": [
      "Categorical: ['gender', 'Partner', 'Dependents', 'PhoneService', 'MultipleLines', 'InternetService', 'OnlineSecurity', 'OnlineBackup', 'DeviceProtection', 'TechSupport', 'StreamingTV', 'StreamingMovies', 'Contract', 'PaperlessBilling', 'PaymentMethod']\n",
      "Numeric: ['SeniorCitizen', 'tenure', 'MonthlyCharges', 'TotalCharges', 'Churn']\n"
     ]
    }
   ],
   "source": [
    "categorical = train.select_dtypes(include=[\"object\"]).columns.tolist()\n",
    "numeric = train.select_dtypes(exclude=[\"object\"]).columns.tolist()\n",
    "print(\"Categorical:\", categorical)\n",
    "print(\"Numeric:\", numeric)"
   ]
  },
  {
   "cell_type": "code",
   "execution_count": 4,
   "id": "c5dffd55",
   "metadata": {},
   "outputs": [],
   "source": [
    "mapping_contract = {\"Month-to-month\":1, \"One year\":12, \"Two year\":24}\n",
    "mapping_internet = {\"No\":0, \"DSL\":1, \"Fiber optic\":2}\n",
    "\n",
    "train[\"Contract\"] = train[\"Contract\"].map(mapping_contract)\n",
    "val[\"Contract\"] = val[\"Contract\"].map(mapping_contract)\n",
    "test[\"Contract\"] = test[\"Contract\"].map(mapping_contract)\n",
    "\n",
    "train[\"InternetService\"] = train[\"InternetService\"].map(mapping_internet)\n",
    "val[\"InternetService\"] = val[\"InternetService\"].map(mapping_internet)\n",
    "test[\"InternetService\"] = test[\"InternetService\"].map(mapping_internet)"
   ]
  },
  {
   "cell_type": "code",
   "execution_count": 5,
   "id": "20425478",
   "metadata": {},
   "outputs": [],
   "source": [
    "onehot_cols = [\n",
    "    'gender','Partner','Dependents','PhoneService','MultipleLines',\n",
    "    'OnlineSecurity','OnlineBackup','DeviceProtection','TechSupport',\n",
    "    'StreamingTV','StreamingMovies','PaperlessBilling','PaymentMethod'\n",
    "]\n",
    "\n",
    "encoder = OneHotEncoder(sparse_output=False, drop=\"first\", handle_unknown=\"ignore\")\n",
    "\n",
    "encoded_train = pd.DataFrame(\n",
    "    encoder.fit_transform(train[onehot_cols]),\n",
    "    columns=encoder.get_feature_names_out(onehot_cols),\n",
    "    index=train.index\n",
    ")\n",
    "\n",
    "encoded_val = pd.DataFrame(\n",
    "    encoder.transform(val[onehot_cols]),\n",
    "    columns=encoder.get_feature_names_out(onehot_cols),\n",
    "    index=val.index\n",
    ")\n",
    "\n",
    "encoded_test = pd.DataFrame(\n",
    "    encoder.transform(test[onehot_cols]),\n",
    "    columns=encoder.get_feature_names_out(onehot_cols),\n",
    "    index=test.index\n",
    ")"
   ]
  },
  {
   "cell_type": "code",
   "execution_count": 6,
   "id": "ad5f212b",
   "metadata": {},
   "outputs": [],
   "source": [
    "X_train = pd.concat([train.drop(columns=onehot_cols), encoded_train], axis=1)\n",
    "X_val = pd.concat([val.drop(columns=onehot_cols), encoded_val], axis=1)\n",
    "X_test = pd.concat([test.drop(columns=onehot_cols), encoded_test], axis=1)\n",
    "\n",
    "X_train.columns = X_train.columns.str.replace(\" \", \"_\").str.replace(\"-\", \"_\")\n",
    "X_val.columns = X_val.columns.str.replace(\" \", \"_\").str.replace(\"-\", \"_\")\n",
    "X_test.columns = X_test.columns.str.replace(\" \", \"_\").str.replace(\"-\", \"_\")\n",
    "\n",
    "X_train.to_csv(OUT_DIR / \"train_encoded.csv\", index=False)\n",
    "X_val.to_csv(OUT_DIR / \"val_encoded.csv\", index=False)\n",
    "X_test.to_csv(OUT_DIR / \"test_encoded.csv\", index=False)"
   ]
  },
  {
   "cell_type": "code",
   "execution_count": 7,
   "id": "4a828cb0",
   "metadata": {},
   "outputs": [
    {
     "data": {
      "text/plain": [
       "611"
      ]
     },
     "execution_count": 7,
     "metadata": {},
     "output_type": "execute_result"
    }
   ],
   "source": [
    "now = datetime.datetime.now().strftime(\"%Y-%m-%d %H:%M:%S\")\n",
    "\n",
    "md = f\"\"\"# Encoding Strategy\n",
    "\n",
    "**Datum/Zeit:** {now}  \n",
    "**random_state:** 42  \n",
    "\n",
    "---\n",
    "\n",
    "## Overview\n",
    "- Nominal variables encoded with **One-Hot-Encoding** (drop='first')\n",
    "- Ordinal variables encoded via **manual mapping**\n",
    "- Cleaned column names (no spaces or hyphens)\n",
    "- Handled unknown categories using `handle_unknown=\"ignore\"`\n",
    "\n",
    "---\n",
    "\n",
    "## Encoded Columns Summary\n",
    "**Original columns:** {len(train.columns)}  \n",
    "**After encoding:** {len(X_train.columns)}  \n",
    "\n",
    "---\n",
    "\n",
    "## Output\n",
    "- data/encoded/train_encoded.csv  \n",
    "- data/encoded/val_encoded.csv  \n",
    "- data/encoded/test_encoded.csv  \n",
    "\n",
    "---\n",
    "\n",
    "## Reproducibility\n",
    "- Python {sys.version.split()[0]}  \n",
    "- pandas {pd.__version__}  \n",
    "- scikit-learn {sklearn.__version__}\n",
    "\"\"\"\n",
    "\n",
    "REPORT_DIR = ROOT_DIR / \"reports\" / \"data_preparation\"\n",
    "REPORT_DIR.mkdir(parents=True, exist_ok=True)\n",
    "Path(REPORT_DIR / \"encoding_strategy.md\").write_text(md, encoding=\"utf-8\")"
   ]
  }
 ],
 "metadata": {
  "kernelspec": {
   "display_name": "venv",
   "language": "python",
   "name": "python3"
  },
  "language_info": {
   "codemirror_mode": {
    "name": "ipython",
    "version": 3
   },
   "file_extension": ".py",
   "mimetype": "text/x-python",
   "name": "python",
   "nbconvert_exporter": "python",
   "pygments_lexer": "ipython3",
   "version": "3.13.5"
  }
 },
 "nbformat": 4,
 "nbformat_minor": 5
}
